Read Input:
   |             |      |   
   * ---- * ---- * --   g --
          |             |   
          |      |          
-- *   -- *   -- *   -- * --
   |      |             |   
                 |      |   
-- * --   * --   * ---- *   
          |                 
   |             |          
-- * ---- * ---- *   -- *   
          |      |      |   
          |      |          
   * --   *   -- * ---- * --
   |      |                 

Free Token:
   |   
   * --
   |   
goal node reached
UP from R4 C1 to R3 C1
PUSH TOKEN in Row 2 from R3 C1 to R3 C1
   |             |      |   
   * ---- * ---- * --   g --
          |             |   
          |      |          
-- *   -- *   -- *   -- * --
   |      |             |   
   |                    |   
   * ---- * --   * --   * --
   |             |          
   |             |          
-- * ---- * ---- *   -- *   
          |      |      |   
          |      |          
   * --   *   -- * ---- * --
   |      |                 

new free token:
   |   
-- *   

LEFT from R3 C1 to R3 C0
UP from R3 C0 to R2 C0
UP from R2 C0 to R1 C0
PUSH TOKEN in Row 1 from R1 C0 to R1 C3
   |             |      |   
   * ---- * ---- * --   g --
          |             |   
   |      |             |   
-- *   -- *   -- * ---- *   
   |             |          
   |                    |   
   * ---- * --   * --   * --
   |             |          
   |             |          
-- * ---- * ---- *   -- *   
          |      |      |   
          |      |          
   * --   *   -- * ---- * --
   |      |                 

new free token:

-- *   
   |   
UP from R1 C3 to R0 C3
